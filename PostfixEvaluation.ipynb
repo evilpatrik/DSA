{
  "nbformat": 4,
  "nbformat_minor": 0,
  "metadata": {
    "colab": {
      "provenance": [],
      "authorship_tag": "ABX9TyNqaMcV5SVsEuszTGlfMUdv",
      "include_colab_link": true
    },
    "kernelspec": {
      "name": "python3",
      "display_name": "Python 3"
    },
    "language_info": {
      "name": "python"
    }
  },
  "cells": [
    {
      "cell_type": "markdown",
      "metadata": {
        "id": "view-in-github",
        "colab_type": "text"
      },
      "source": [
        "<a href=\"https://colab.research.google.com/github/evilpatrik/DSA/blob/main/PostfixEvaluation.ipynb\" target=\"_parent\"><img src=\"https://colab.research.google.com/assets/colab-badge.svg\" alt=\"Open In Colab\"/></a>"
      ]
    },
    {
      "cell_type": "code",
      "source": [
        "pip install pythonds"
      ],
      "metadata": {
        "colab": {
          "base_uri": "https://localhost:8080/"
        },
        "id": "J1-qFN_1EyY9",
        "outputId": "e6c32349-da3a-4b56-892c-b558bb9611b7"
      },
      "execution_count": 2,
      "outputs": [
        {
          "output_type": "stream",
          "name": "stdout",
          "text": [
            "Collecting pythonds\n",
            "  Downloading pythonds-1.2.1-py3-none-any.whl.metadata (1.4 kB)\n",
            "Downloading pythonds-1.2.1-py3-none-any.whl (14 kB)\n",
            "Installing collected packages: pythonds\n",
            "Successfully installed pythonds-1.2.1\n"
          ]
        }
      ]
    },
    {
      "cell_type": "markdown",
      "source": [
        "# Postfix Expression Calculator in Python\n",
        "\n",
        "This notebook contains a Python implementation of a simple Postfix (Reverse Polish) notation calculator using a stack. Postfix notation is a mathematical notation in which every operator follows all of its operands. It is useful in computer science because it eliminates the need for parentheses to define operation precedence.\n"
      ],
      "metadata": {
        "id": "Ldrid0cyKZfR"
      }
    },
    {
      "cell_type": "code",
      "execution_count": 3,
      "metadata": {
        "id": "IBqGBb6Sx5XS"
      },
      "outputs": [],
      "source": [
        "from pythonds.basic import Stack"
      ]
    },
    {
      "cell_type": "markdown",
      "source": [
        "## Code Overview\n",
        "\n",
        "The code is implemented using Python and the `pythonds` library for stack operations. It defines two main functions:\n",
        "\n",
        "- `calPost(e)`: This function takes a postfix expression as input and computes the result.\n",
        "- `calfunc(i, b, a)`: This helper function performs the basic arithmetic operations (addition, subtraction, multiplication, and division) based on the operator provided.\n"
      ],
      "metadata": {
        "id": "OOpRITtrKkLX"
      }
    },
    {
      "cell_type": "code",
      "source": [
        "def calPost(e):\n",
        "  s = Stack()\n",
        "  li = []\n",
        "  li = e.split()\n",
        "  for i in li:\n",
        "    if i in '123456789':\n",
        "      s.push(int(i))\n",
        "    else:\n",
        "      a = s.pop()\n",
        "      b = s.pop()\n",
        "      c = calfunc(i,b,a)\n",
        "      s.push(c)\n",
        "  return s.pop()"
      ],
      "metadata": {
        "id": "n2qOeBVvE5M7"
      },
      "execution_count": 9,
      "outputs": []
    },
    {
      "cell_type": "code",
      "source": [
        "def calfunc(i,b,a):\n",
        "  if i == '+':\n",
        "     return b + a\n",
        "  elif i == '-':\n",
        "     return b - a\n",
        "  elif i == '*':\n",
        "     return b * a\n",
        "  else:\n",
        "     return b / a"
      ],
      "metadata": {
        "id": "6DC-EoIPFze8"
      },
      "execution_count": 10,
      "outputs": []
    },
    {
      "cell_type": "code",
      "source": [
        "calPost('3 4 8 + 3 2 + /')"
      ],
      "metadata": {
        "colab": {
          "base_uri": "https://localhost:8080/"
        },
        "id": "uLc6E6CsGwRX",
        "outputId": "56838d94-61b2-46fa-e1b9-d4fca896be05"
      },
      "execution_count": 11,
      "outputs": [
        {
          "output_type": "execute_result",
          "data": {
            "text/plain": [
              "2.4"
            ]
          },
          "metadata": {},
          "execution_count": 11
        }
      ]
    },
    {
      "cell_type": "markdown",
      "source": [
        "# Custom Stack Implementation in Python\n",
        "\n",
        "This section demonstrates the implementation of a custom stack class in Python, named `myStack`. A stack is a linear data structure that follows the Last In, First Out (LIFO) principle, meaning that the last element added to the stack will be the first one to be removed.\n",
        "\n",
        "## `myStack` Class Overview\n",
        "\n",
        "The `myStack` class provides basic stack operations using a Python list as the underlying data structure."
      ],
      "metadata": {
        "id": "8y3CXdjPOGNK"
      }
    },
    {
      "cell_type": "code",
      "source": [
        "class myStack:\n",
        "  def __init__(self):\n",
        "    self.lst=[]\n",
        "\n",
        "  def push(self, data):\n",
        "    self.lst.append(data)\n",
        "\n",
        "  def pop(self):\n",
        "    if self.lst:\n",
        "        return self.lst.pop()\n",
        "    else:\n",
        "        return 'None'\n",
        "\n",
        "  def is_empty(self):\n",
        "    return self.lst==[]\n",
        "\n",
        "  def peek(self):\n",
        "    return self.lst[-1]"
      ],
      "metadata": {
        "id": "0PFu8uF0NgB9"
      },
      "execution_count": 18,
      "outputs": []
    },
    {
      "cell_type": "markdown",
      "source": [
        "# Infix to Postfix Conversion in Python\n",
        "\n",
        "This section demonstrates the implementation of a function that converts an infix expression to a postfix expression using a custom stack (`myStack`). Infix expressions are the common arithmetic expressions where operators are placed between operands (e.g., `A + B`). Postfix notation (Reverse Polish Notation) places operators after their operands (e.g., `AB+`), which is useful for computation as it eliminates the need for parentheses and operator precedence rules.\n",
        "\n",
        "## `InfixToPostfix` Function Overview\n",
        "\n",
        "The `InfixToPostfix` function converts an infix expression to a postfix expression using a stack to manage operators and parentheses.\n"
      ],
      "metadata": {
        "id": "RwT9r2SdOsas"
      }
    },
    {
      "cell_type": "code",
      "source": [
        "def InfixToPostfix(exp):\n",
        "  s = myStack()\n",
        "  p = {'+' : 1 , '-':1 , '*':2 , '/': 2}\n",
        "  output = ''\n",
        "  for i in exp:\n",
        "    if i.isalpha():\n",
        "      output += i\n",
        "    elif i == '(':\n",
        "      s.push('(')\n",
        "    elif i == ')':\n",
        "      while not s.is_empty() and s.peek() != '(':\n",
        "        output += s.pop()\n",
        "      s.pop()\n",
        "    else:\n",
        "      while not s.is_empty()  and s.peek() != '('  and p[i] <= p[s.peek()]:\n",
        "        output += s.pop()\n",
        "      s.push(i)\n",
        "\n",
        "  while not s.is_empty():\n",
        "    output += s.pop()\n",
        "  return output"
      ],
      "metadata": {
        "id": "OE5TN6BLNQPQ"
      },
      "execution_count": 15,
      "outputs": []
    },
    {
      "cell_type": "code",
      "source": [
        "InfixToPostfix('a*b+c*d')"
      ],
      "metadata": {
        "colab": {
          "base_uri": "https://localhost:8080/",
          "height": 56
        },
        "id": "TwK09QqqNTJr",
        "outputId": "9b070a83-3fd9-4ef0-d05b-44d93237848b"
      },
      "execution_count": 16,
      "outputs": [
        {
          "output_type": "execute_result",
          "data": {
            "text/plain": [
              "'ab*cd*+'"
            ],
            "application/vnd.google.colaboratory.intrinsic+json": {
              "type": "string"
            }
          },
          "metadata": {},
          "execution_count": 16
        }
      ]
    },
    {
      "cell_type": "markdown",
      "source": [
        "# Postfix to Infix Conversion in Python\n",
        "\n",
        "This section demonstrates the implementation of a function that converts a postfix expression (Reverse Polish Notation) to an infix expression. The conversion is achieved using a stack to manage operands and operators as the expression is processed.\n",
        "\n",
        "## `PostfixToInfix` Function Overview\n",
        "\n",
        "The `PostfixToInfix` function takes a postfix expression and converts it back to an infix expression, adding parentheses where necessary to preserve the original operator precedence.\n"
      ],
      "metadata": {
        "id": "G4j3asKPPPK0"
      }
    },
    {
      "cell_type": "code",
      "source": [
        "def PostfixToInfix(exp):\n",
        "  s = Stack()\n",
        "  for k in exp:\n",
        "    if k.isalpha():\n",
        "      s.push(k)\n",
        "    elif k in ['+','-','*','/']:\n",
        "      b = s.pop()\n",
        "      a = s.pop()\n",
        "      s.push('(' + a + k + b + ')')\n",
        "  return s.pop()"
      ],
      "metadata": {
        "id": "AFT-0NXEO7vL"
      },
      "execution_count": 19,
      "outputs": []
    },
    {
      "cell_type": "code",
      "source": [
        "PostfixToInfix('ABC+*')"
      ],
      "metadata": {
        "colab": {
          "base_uri": "https://localhost:8080/",
          "height": 56
        },
        "id": "mySOE3T4PBkv",
        "outputId": "66540225-55e1-41cc-9814-f718a1d220c6"
      },
      "execution_count": 20,
      "outputs": [
        {
          "output_type": "execute_result",
          "data": {
            "text/plain": [
              "'(A*(B+C))'"
            ],
            "application/vnd.google.colaboratory.intrinsic+json": {
              "type": "string"
            }
          },
          "metadata": {},
          "execution_count": 20
        }
      ]
    },
    {
      "cell_type": "code",
      "source": [
        "PostfixToInfix('AB/')"
      ],
      "metadata": {
        "colab": {
          "base_uri": "https://localhost:8080/",
          "height": 56
        },
        "id": "KCdFjasnPRFv",
        "outputId": "a5d00c70-90ff-43c5-b3c1-d7e2fc3dad32"
      },
      "execution_count": 21,
      "outputs": [
        {
          "output_type": "execute_result",
          "data": {
            "text/plain": [
              "'(A/B)'"
            ],
            "application/vnd.google.colaboratory.intrinsic+json": {
              "type": "string"
            }
          },
          "metadata": {},
          "execution_count": 21
        }
      ]
    },
    {
      "cell_type": "markdown",
      "source": [],
      "metadata": {
        "id": "UlYJUj_QJAcR"
      }
    }
  ]
}