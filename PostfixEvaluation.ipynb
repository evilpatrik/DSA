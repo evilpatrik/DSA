{
  "nbformat": 4,
  "nbformat_minor": 0,
  "metadata": {
    "colab": {
      "provenance": [],
      "authorship_tag": "ABX9TyPTZIomFwZQZeNuGwh5OUr+",
      "include_colab_link": true
    },
    "kernelspec": {
      "name": "python3",
      "display_name": "Python 3"
    },
    "language_info": {
      "name": "python"
    }
  },
  "cells": [
    {
      "cell_type": "markdown",
      "metadata": {
        "id": "view-in-github",
        "colab_type": "text"
      },
      "source": [
        "<a href=\"https://colab.research.google.com/github/evilpatrik/DSA/blob/main/PostfixEvaluation.ipynb\" target=\"_parent\"><img src=\"https://colab.research.google.com/assets/colab-badge.svg\" alt=\"Open In Colab\"/></a>"
      ]
    },
    {
      "cell_type": "code",
      "source": [
        "pip install pythonds"
      ],
      "metadata": {
        "colab": {
          "base_uri": "https://localhost:8080/"
        },
        "id": "J1-qFN_1EyY9",
        "outputId": "e6c32349-da3a-4b56-892c-b558bb9611b7"
      },
      "execution_count": 2,
      "outputs": [
        {
          "output_type": "stream",
          "name": "stdout",
          "text": [
            "Collecting pythonds\n",
            "  Downloading pythonds-1.2.1-py3-none-any.whl.metadata (1.4 kB)\n",
            "Downloading pythonds-1.2.1-py3-none-any.whl (14 kB)\n",
            "Installing collected packages: pythonds\n",
            "Successfully installed pythonds-1.2.1\n"
          ]
        }
      ]
    },
    {
      "cell_type": "markdown",
      "source": [
        "# Postfix Expression Calculator in Python\n",
        "\n",
        "This notebook contains a Python implementation of a simple Postfix (Reverse Polish) notation calculator using a stack. Postfix notation is a mathematical notation in which every operator follows all of its operands. It is useful in computer science because it eliminates the need for parentheses to define operation precedence.\n"
      ],
      "metadata": {
        "id": "Ldrid0cyKZfR"
      }
    },
    {
      "cell_type": "code",
      "execution_count": 3,
      "metadata": {
        "id": "IBqGBb6Sx5XS"
      },
      "outputs": [],
      "source": [
        "from pythonds.basic import Stack"
      ]
    },
    {
      "cell_type": "markdown",
      "source": [
        "## Code Overview\n",
        "\n",
        "The code is implemented using Python and the `pythonds` library for stack operations. It defines two main functions:\n",
        "\n",
        "- `calPost(e)`: This function takes a postfix expression as input and computes the result.\n",
        "- `calfunc(i, b, a)`: This helper function performs the basic arithmetic operations (addition, subtraction, multiplication, and division) based on the operator provided.\n"
      ],
      "metadata": {
        "id": "OOpRITtrKkLX"
      }
    },
    {
      "cell_type": "code",
      "source": [
        "def calPost(e):\n",
        "  s = Stack()\n",
        "  li = []\n",
        "  li = e.split()\n",
        "  for i in li:\n",
        "    if i in '123456789':\n",
        "      s.push(int(i))\n",
        "    else:\n",
        "      a = s.pop()\n",
        "      b = s.pop()\n",
        "      c = calfunc(i,b,a)\n",
        "      s.push(c)\n",
        "  return s.pop()"
      ],
      "metadata": {
        "id": "n2qOeBVvE5M7"
      },
      "execution_count": 9,
      "outputs": []
    },
    {
      "cell_type": "code",
      "source": [
        "def calfunc(i,b,a):\n",
        "  if i == '+':\n",
        "     return b + a\n",
        "  elif i == '-':\n",
        "     return b - a\n",
        "  elif i == '*':\n",
        "     return b * a\n",
        "  else:\n",
        "     return b / a"
      ],
      "metadata": {
        "id": "6DC-EoIPFze8"
      },
      "execution_count": 10,
      "outputs": []
    },
    {
      "cell_type": "code",
      "source": [
        "calPost('3 4 8 + 3 2 + /')"
      ],
      "metadata": {
        "colab": {
          "base_uri": "https://localhost:8080/"
        },
        "id": "uLc6E6CsGwRX",
        "outputId": "56838d94-61b2-46fa-e1b9-d4fca896be05"
      },
      "execution_count": 11,
      "outputs": [
        {
          "output_type": "execute_result",
          "data": {
            "text/plain": [
              "2.4"
            ]
          },
          "metadata": {},
          "execution_count": 11
        }
      ]
    },
    {
      "cell_type": "markdown",
      "source": [],
      "metadata": {
        "id": "UlYJUj_QJAcR"
      }
    }
  ]
}