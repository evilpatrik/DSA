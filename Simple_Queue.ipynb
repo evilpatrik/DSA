{
  "nbformat": 4,
  "nbformat_minor": 0,
  "metadata": {
    "colab": {
      "provenance": [],
      "authorship_tag": "ABX9TyPSaO5UeT2OQ9yFQORGkQ83",
      "include_colab_link": true
    },
    "kernelspec": {
      "name": "python3",
      "display_name": "Python 3"
    },
    "language_info": {
      "name": "python"
    }
  },
  "cells": [
    {
      "cell_type": "markdown",
      "metadata": {
        "id": "view-in-github",
        "colab_type": "text"
      },
      "source": [
        "<a href=\"https://colab.research.google.com/github/evilpatrik/data-structure-/blob/main/Simple_Queue.ipynb\" target=\"_parent\"><img src=\"https://colab.research.google.com/assets/colab-badge.svg\" alt=\"Open In Colab\"/></a>"
      ]
    },
    {
      "cell_type": "markdown",
      "source": [
        "# simple_Queue\n",
        "\n",
        "in this data structure we say first in first out it means the one who enterded\n",
        "first it goes out first\n"
      ],
      "metadata": {
        "id": "xqiVUiYwhaG-"
      }
    },
    {
      "cell_type": "code",
      "execution_count": 57,
      "metadata": {
        "id": "5plQgGnyUBWk"
      },
      "outputs": [],
      "source": [
        "class Queue:\n",
        "\n",
        "  def __init__(self,k):    # init method that prepar our queue\n",
        "    self.k = k\n",
        "    self.queue = [None] * k\n",
        "    self.front = -1\n",
        "    self.rear = -1\n",
        "\n",
        "  def display(self):       # display method that show queue status\n",
        "    if self.front == -1:\n",
        "      print(\"empty\")\n",
        "      return\n",
        "    for i in range(self.front , self.rear+1):\n",
        "      print(self.queue[i],end=' ')\n",
        "\n",
        "  def enqueue(self , new_data):     # use this method for adding new_data\n",
        "    if((self.rear + 1) == self.k):\n",
        "      print('full')\n",
        "      return\n",
        "    elif (self.front == -1):\n",
        "      self.front = 0\n",
        "      self.rear = 0\n",
        "      self.queue[self.rear] = new_data\n",
        "    else:\n",
        "      self.rear+=1\n",
        "      self.queue[self.rear] = new_data\n",
        "\n",
        "  def dequeue(self):                # use this method for delete front_data\n",
        "   if (self.front == -1):\n",
        "     print('empty')\n",
        "     return\n",
        "   elif (self.front == self.rear):\n",
        "     t = self.queue[self.front]\n",
        "     self.front = -1\n",
        "     self.rear = -1\n",
        "     return t\n",
        "   else:\n",
        "     t = self.queue[self.front]\n",
        "     self.front +=1\n",
        "     return t\n",
        "\n",
        "\n",
        "\n",
        "\n",
        ""
      ]
    },
    {
      "cell_type": "markdown",
      "source": [
        "# Test\n",
        "testing queue"
      ],
      "metadata": {
        "id": "OBYNSw993For"
      }
    },
    {
      "cell_type": "code",
      "source": [
        "q = Queue(3)"
      ],
      "metadata": {
        "id": "yt764R9cuF8V"
      },
      "execution_count": 58,
      "outputs": []
    },
    {
      "cell_type": "code",
      "source": [
        "q.display()"
      ],
      "metadata": {
        "colab": {
          "base_uri": "https://localhost:8080/"
        },
        "id": "2KrpmPyl3fLk",
        "outputId": "905e2054-bf49-4b7a-8455-2456af7d48db"
      },
      "execution_count": 59,
      "outputs": [
        {
          "output_type": "stream",
          "name": "stdout",
          "text": [
            "empty\n"
          ]
        }
      ]
    },
    {
      "cell_type": "code",
      "source": [
        "q.enqueue('a')\n",
        "q.enqueue('b')\n",
        "\n",
        "\n"
      ],
      "metadata": {
        "id": "a3zHzCN23i-1"
      },
      "execution_count": 60,
      "outputs": []
    },
    {
      "cell_type": "code",
      "source": [
        "q.display()"
      ],
      "metadata": {
        "colab": {
          "base_uri": "https://localhost:8080/"
        },
        "id": "kWl4IBtM4NqZ",
        "outputId": "e8470f84-8f65-4a05-eb4f-dbef68b4bd0e"
      },
      "execution_count": 61,
      "outputs": [
        {
          "output_type": "stream",
          "name": "stdout",
          "text": [
            "a b "
          ]
        }
      ]
    },
    {
      "cell_type": "code",
      "source": [
        "x = q.dequeue()\n",
        "print(x)"
      ],
      "metadata": {
        "colab": {
          "base_uri": "https://localhost:8080/"
        },
        "id": "UcOC0Cx55dqB",
        "outputId": "a1e83fd9-c130-4a3c-be48-24680a68dc9e"
      },
      "execution_count": 62,
      "outputs": [
        {
          "output_type": "stream",
          "name": "stdout",
          "text": [
            "a\n"
          ]
        }
      ]
    },
    {
      "cell_type": "code",
      "source": [
        "q.enqueue('d')\n"
      ],
      "metadata": {
        "id": "L_O6Y6PJ6Xoz"
      },
      "execution_count": 63,
      "outputs": []
    },
    {
      "cell_type": "code",
      "source": [
        "q.display()"
      ],
      "metadata": {
        "colab": {
          "base_uri": "https://localhost:8080/"
        },
        "id": "S3u9P_MXB-GH",
        "outputId": "15c2b32f-e081-4719-ac21-8b4cfaf54faf"
      },
      "execution_count": 64,
      "outputs": [
        {
          "output_type": "stream",
          "name": "stdout",
          "text": [
            "b d "
          ]
        }
      ]
    },
    {
      "cell_type": "code",
      "source": [
        "q.enqueue('z')"
      ],
      "metadata": {
        "colab": {
          "base_uri": "https://localhost:8080/"
        },
        "id": "D9qsFkqhCCzT",
        "outputId": "2edb4ab1-b16b-42cb-e0d5-7c8102509fe3"
      },
      "execution_count": 65,
      "outputs": [
        {
          "output_type": "stream",
          "name": "stdout",
          "text": [
            "full\n"
          ]
        }
      ]
    }
  ]
}