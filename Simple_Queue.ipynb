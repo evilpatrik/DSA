{
  "nbformat": 4,
  "nbformat_minor": 0,
  "metadata": {
    "colab": {
      "provenance": [],
      "authorship_tag": "ABX9TyOwvMUqahPIzOkzDMsUad4N",
      "include_colab_link": true
    },
    "kernelspec": {
      "name": "python3",
      "display_name": "Python 3"
    },
    "language_info": {
      "name": "python"
    }
  },
  "cells": [
    {
      "cell_type": "markdown",
      "metadata": {
        "id": "view-in-github",
        "colab_type": "text"
      },
      "source": [
        "<a href=\"https://colab.research.google.com/github/evilpatrik/data-structure-/blob/main/Simple_Queue.ipynb\" target=\"_parent\"><img src=\"https://colab.research.google.com/assets/colab-badge.svg\" alt=\"Open In Colab\"/></a>"
      ]
    },
    {
      "cell_type": "markdown",
      "source": [
        "# simple_Queue\n",
        "\n",
        "in this data structure we say first in first out it means the one who enterded\n",
        "first it goes out first\n"
      ],
      "metadata": {
        "id": "xqiVUiYwhaG-"
      }
    },
    {
      "cell_type": "code",
      "execution_count": 41,
      "metadata": {
        "id": "5plQgGnyUBWk"
      },
      "outputs": [],
      "source": [
        "class Queue:\n",
        "\n",
        "  def __init__(self,k):    # init method that prepar our queue\n",
        "    self.k = k\n",
        "    self.queue = [None] * k\n",
        "    self.front = -1\n",
        "    self.rear = -1\n",
        "\n",
        "  def display(self):       # display method that show queue status\n",
        "    if self.front == -1:\n",
        "      print(\"empty\")\n",
        "      return\n",
        "    for i in range(self.front , self.rear+1):\n",
        "      print(self.queue[i],end=' ')\n",
        "\n",
        "  def enqueue(self , new_data):     # use this method for adding new_data\n",
        "    if(((self.rear + 1) % self.k ) == self.front):\n",
        "      print('full')\n",
        "      return\n",
        "    elif (self.front == -1):\n",
        "      self.front = 0\n",
        "      self.rear = 0\n",
        "      self.queue[self.rear] = new_data\n",
        "    else:\n",
        "      self.rear = (self.rear + 1 ) % self.k\n",
        "      self.queue[self.rear] = new_data\n",
        "\n",
        "  def dequeue(self):                # use this method for delete front_data\n",
        "   if (self.front == -1):\n",
        "     print('empty')\n",
        "     return\n",
        "   elif (self.front == self.rear):\n",
        "     t = self.queue[self.front]\n",
        "     self.front = -1\n",
        "     self.rear = -1\n",
        "     return t\n",
        "   else:\n",
        "     t = self.queue[self.front]\n",
        "     self.front = (self.front + 1 ) % self.k\n",
        "     return t\n",
        "\n",
        "\n",
        "\n",
        "\n",
        ""
      ]
    },
    {
      "cell_type": "markdown",
      "source": [
        "# Test\n",
        "testing queue"
      ],
      "metadata": {
        "id": "OBYNSw993For"
      }
    },
    {
      "cell_type": "code",
      "source": [
        "q = Queue(3)"
      ],
      "metadata": {
        "id": "yt764R9cuF8V"
      },
      "execution_count": 42,
      "outputs": []
    },
    {
      "cell_type": "code",
      "source": [
        "q.display()"
      ],
      "metadata": {
        "colab": {
          "base_uri": "https://localhost:8080/"
        },
        "id": "2KrpmPyl3fLk",
        "outputId": "4e619edd-ee8c-4b72-c0e0-eb4e2e605cd1"
      },
      "execution_count": 43,
      "outputs": [
        {
          "output_type": "stream",
          "name": "stdout",
          "text": [
            "empty\n"
          ]
        }
      ]
    },
    {
      "cell_type": "code",
      "source": [
        "q.enqueue('a')\n",
        "q.enqueue('b')\n",
        "q.enqueue('c')\n",
        "\n"
      ],
      "metadata": {
        "id": "a3zHzCN23i-1"
      },
      "execution_count": 44,
      "outputs": []
    },
    {
      "cell_type": "code",
      "source": [
        "q.display()"
      ],
      "metadata": {
        "colab": {
          "base_uri": "https://localhost:8080/"
        },
        "id": "kWl4IBtM4NqZ",
        "outputId": "d7d82ca8-d78d-4edd-83c6-5fdb083f2634"
      },
      "execution_count": 45,
      "outputs": [
        {
          "output_type": "stream",
          "name": "stdout",
          "text": [
            "a b c "
          ]
        }
      ]
    },
    {
      "cell_type": "code",
      "source": [
        "x = q.dequeue()\n",
        "print(x)"
      ],
      "metadata": {
        "colab": {
          "base_uri": "https://localhost:8080/"
        },
        "id": "UcOC0Cx55dqB",
        "outputId": "dfb97485-a904-409b-d765-359ff1a3d08f"
      },
      "execution_count": 46,
      "outputs": [
        {
          "output_type": "stream",
          "name": "stdout",
          "text": [
            "a\n"
          ]
        }
      ]
    },
    {
      "cell_type": "code",
      "source": [
        "q.enqueue('d')"
      ],
      "metadata": {
        "id": "L_O6Y6PJ6Xoz"
      },
      "execution_count": 47,
      "outputs": []
    }
  ]
}