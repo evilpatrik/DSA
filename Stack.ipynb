{
  "nbformat": 4,
  "nbformat_minor": 0,
  "metadata": {
    "colab": {
      "provenance": [],
      "authorship_tag": "ABX9TyMNvRyxX65aez7BTRq5flUZ",
      "include_colab_link": true
    },
    "kernelspec": {
      "name": "python3",
      "display_name": "Python 3"
    },
    "language_info": {
      "name": "python"
    }
  },
  "cells": [
    {
      "cell_type": "markdown",
      "metadata": {
        "id": "view-in-github",
        "colab_type": "text"
      },
      "source": [
        "<a href=\"https://colab.research.google.com/github/evilpatrik/data-structure-/blob/main/Stack.ipynb\" target=\"_parent\"><img src=\"https://colab.research.google.com/assets/colab-badge.svg\" alt=\"Open In Colab\"/></a>"
      ]
    },
    {
      "cell_type": "markdown",
      "source": [
        "# Stack data structure\n",
        "last in first out"
      ],
      "metadata": {
        "id": "7S8dmQJV_FYQ"
      }
    },
    {
      "cell_type": "code",
      "execution_count": null,
      "metadata": {
        "id": "zG2x-g8JnBu-"
      },
      "outputs": [],
      "source": [
        "class Stack:\n",
        "  def __init__(self , li = 10):\n",
        "    self.stack = []\n",
        "    self.li = li\n",
        "\n",
        "\n",
        "\n",
        "  def push(self , data):\n",
        "     if len(self.stack) >= self.li :\n",
        "       return -1\n",
        "     else :\n",
        "      self.stack.append(data)\n",
        "\n",
        "  def pop(self) :\n",
        "    if len(self.stack)<=0:\n",
        "      return -1\n",
        "    else:\n",
        "      self.stack.pop()"
      ]
    },
    {
      "cell_type": "markdown",
      "source": [
        "# examples\n"
      ],
      "metadata": {
        "id": "teBE5Pnr_bha"
      }
    },
    {
      "cell_type": "code",
      "source": [
        "#Convert from decimal to binary\n",
        "#we use stack data structure for this\n",
        "def convert(n):\n",
        "   s = Stack()\n",
        "\n",
        "   while n>0 :\n",
        "    r = n%2\n",
        "    s.push(r)\n",
        "    n//2\n",
        "\n",
        "   b = \"\"\n",
        "   while not s.is_empty():\n",
        "    b = b + str(s.pop())\n",
        "\n",
        "   return b"
      ],
      "metadata": {
        "id": "v5y2_sM1AH6H"
      },
      "execution_count": null,
      "outputs": []
    },
    {
      "cell_type": "code",
      "source": [
        "#  revers list with stack data structure\n",
        "def revers(lis):\n",
        "  s = Stack()\n",
        "  for i in lis:\n",
        "    s.push(i)\n",
        "\n",
        "  for e in len(lis):\n",
        "    lis[i] = s.pop()\n"
      ],
      "metadata": {
        "id": "bjZDieRE9m5R"
      },
      "execution_count": 1,
      "outputs": []
    }
  ]
}