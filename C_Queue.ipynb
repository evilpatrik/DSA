{
  "nbformat": 4,
  "nbformat_minor": 0,
  "metadata": {
    "colab": {
      "provenance": [],
      "authorship_tag": "ABX9TyNjqRYeHHAOPjxE1fSFD0Ai",
      "include_colab_link": true
    },
    "kernelspec": {
      "name": "python3",
      "display_name": "Python 3"
    },
    "language_info": {
      "name": "python"
    }
  },
  "cells": [
    {
      "cell_type": "markdown",
      "metadata": {
        "id": "view-in-github",
        "colab_type": "text"
      },
      "source": [
        "<a href=\"https://colab.research.google.com/github/evilpatrik/data-structure-/blob/main/C_Queue.ipynb\" target=\"_parent\"><img src=\"https://colab.research.google.com/assets/colab-badge.svg\" alt=\"Open In Colab\"/></a>"
      ]
    },
    {
      "cell_type": "markdown",
      "source": [
        "# C_Queue\n",
        "circular queue has so much in common with simple queue but there is some difference too you can see the differencs below"
      ],
      "metadata": {
        "id": "7oFg0R8IWgMh"
      }
    },
    {
      "cell_type": "code",
      "execution_count": 1,
      "metadata": {
        "id": "lGQxkgun_2qf"
      },
      "outputs": [],
      "source": [
        "class CQueue:\n",
        "\n",
        "  def __init__(self, k):\n",
        "    self.k = k\n",
        "    self.queue = [None] * k\n",
        "    self.front = -1\n",
        "    self.rear = -1\n",
        "\n",
        "  def display(self):\n",
        "      if(self.front == -1):\n",
        "        print('empty')\n",
        "        return\n",
        "      elif(self.front <= self.rear) :\n",
        "         for i in range(self.front, self.rear+1):\n",
        "            print(self.queue[i], end=' ')\n",
        "         print()\n",
        "      else:\n",
        "        for i in range(self.front, self.k):\n",
        "             print(self.queue[i], end=' ')\n",
        "        for i in range(0, self.rear+1):\n",
        "             print(self.queue[i], end=' ')\n",
        "        print()\n",
        "\n",
        "  def enqueue(self, data):\n",
        "    if(((self.rear + 1) % self.k ) == self.front):\n",
        "      print('full')\n",
        "      return\n",
        "    elif (self.front == -1):\n",
        "      self.front = 0\n",
        "      self.rear = 0\n",
        "      self.queue[self.rear] = data\n",
        "    else:\n",
        "      self.rear = (self.rear + 1 ) % self.k\n",
        "      self.queue[self.rear] = data\n",
        "\n",
        "  def dequeue(self):\n",
        "      if (self.front == -1):\n",
        "        print('empty')\n",
        "        return\n",
        "      elif (self.front == self.rear):\n",
        "        t = self.queue[self.front]\n",
        "        self.front = -1\n",
        "        self.rear = -1\n",
        "        return t\n",
        "      else:\n",
        "        t = self.queue[self.front]\n",
        "        self.front = (self.front + 1 ) % self.k\n",
        "        return t"
      ]
    },
    {
      "cell_type": "code",
      "source": [
        "q = CQueue(4)"
      ],
      "metadata": {
        "id": "F3AOVtB9VArU"
      },
      "execution_count": 2,
      "outputs": []
    },
    {
      "cell_type": "code",
      "source": [
        "q.display()"
      ],
      "metadata": {
        "colab": {
          "base_uri": "https://localhost:8080/"
        },
        "id": "nXpbTVdmVz3T",
        "outputId": "216076d0-a8d2-477e-84cc-07ff9875f01e"
      },
      "execution_count": 3,
      "outputs": [
        {
          "output_type": "stream",
          "name": "stdout",
          "text": [
            "empty\n"
          ]
        }
      ]
    },
    {
      "cell_type": "code",
      "source": [
        "q.enqueue('a')\n",
        "q.enqueue('b')\n",
        "q.enqueue('c')\n",
        "q.enqueue('d')"
      ],
      "metadata": {
        "id": "y1J-CrGdV2pt"
      },
      "execution_count": 4,
      "outputs": []
    },
    {
      "cell_type": "code",
      "source": [
        "q.display()"
      ],
      "metadata": {
        "colab": {
          "base_uri": "https://localhost:8080/"
        },
        "id": "HajkHV3HV896",
        "outputId": "8f79598a-81e1-4005-d9f0-87a2fd354261"
      },
      "execution_count": 5,
      "outputs": [
        {
          "output_type": "stream",
          "name": "stdout",
          "text": [
            "a b c d \n"
          ]
        }
      ]
    },
    {
      "cell_type": "code",
      "source": [
        "t = q.dequeue()\n",
        "print(t)"
      ],
      "metadata": {
        "colab": {
          "base_uri": "https://localhost:8080/"
        },
        "id": "YeofWn4RWAeh",
        "outputId": "49d54a78-9ef7-4581-9342-92589dbf2834"
      },
      "execution_count": 6,
      "outputs": [
        {
          "output_type": "stream",
          "name": "stdout",
          "text": [
            "a\n"
          ]
        }
      ]
    },
    {
      "cell_type": "code",
      "source": [
        "q.enqueue('e')"
      ],
      "metadata": {
        "id": "KIgwexOvWMFw"
      },
      "execution_count": 7,
      "outputs": []
    }
  ]
}